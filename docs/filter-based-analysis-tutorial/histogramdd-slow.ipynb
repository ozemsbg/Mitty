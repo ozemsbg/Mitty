{
 "cells": [
  {
   "cell_type": "markdown",
   "metadata": {},
   "source": [
    "## The remarkable lethargy of numpy.histogramdd\n",
    "\n",
    "`numpy.histogramdd` is a histogram function generalized to arbitrary dimensions. You pass it a N x D matrix 9repreenting N samples of D dimensional data) along with a D length list of bin-edges (if you wish, `histogramdd` can, like histogram, generate bins for you) and `histogramdd` will return a D dimensional histogram for you.\n",
    "\n",
    "I was doing some analysis that involved data in 8 dimensional space and when I first prototyped the analysis "
   ]
  }
 ],
 "metadata": {
  "kernelspec": {
   "display_name": "Python 3",
   "language": "python",
   "name": "python3"
  },
  "language_info": {
   "codemirror_mode": {
    "name": "ipython",
    "version": 3
   },
   "file_extension": ".py",
   "mimetype": "text/x-python",
   "name": "python",
   "nbconvert_exporter": "python",
   "pygments_lexer": "ipython3",
   "version": "3.5.2"
  }
 },
 "nbformat": 4,
 "nbformat_minor": 1
}
