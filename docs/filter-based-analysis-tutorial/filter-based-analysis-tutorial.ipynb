{
 "cells": [
  {
   "cell_type": "markdown",
   "metadata": {},
   "source": [
    "### This tutorial takes you through the basics of analysing Mitty data with some help from cytoolz and pandas"
   ]
  },
  {
   "cell_type": "code",
   "execution_count": 1,
   "metadata": {},
   "outputs": [],
   "source": [
    "%load_ext autoreload\n",
    "%autoreload 2"
   ]
  },
  {
   "cell_type": "code",
   "execution_count": 2,
   "metadata": {},
   "outputs": [],
   "source": [
    "import time\n",
    "import matplotlib.pyplot as plt\n",
    "import cytoolz.curried as cyt\n",
    "from bokeh.plotting import figure, show, output_file"
   ]
  },
  {
   "cell_type": "code",
   "execution_count": 5,
   "metadata": {},
   "outputs": [],
   "source": [
    "import mitty.analysis.bamtoolz as bamtoolz\n",
    "import mitty.analysis.bamfilters as mab\n",
    "import mitty.analysis.plots as mapl"
   ]
  },
  {
   "cell_type": "code",
   "execution_count": 4,
   "metadata": {
    "collapsed": true
   },
   "outputs": [],
   "source": [
    "# import logging\n",
    "# FORMAT = \"[%(filename)s:%(lineno)s - %(funcName)20s() ] %(message)s\"\n",
    "# logging.basicConfig(format=FORMAT, level=logging.DEBUG)"
   ]
  },
  {
   "cell_type": "code",
   "execution_count": 6,
   "metadata": {},
   "outputs": [],
   "source": [
    "# fname = '../../../mitty-demo-data/filter-demo-data/HG00119-bwa.bam'\n",
    "# scar_fname = '../../../mitty-demo-data/generating-reads/HG00119-truncated-reads-corrupt-lq.txt'\n",
    "\n",
    "# 180255 read pairs\n",
    "fname = '../../../mitty-demo-data/alignment-accuracy/HG00119-bwa.bam'\n",
    "scar_fname = '../../../mitty-demo-data/generating-reads/HG00119-reads-corrupt-lq.txt'"
   ]
  },
  {
   "cell_type": "markdown",
   "metadata": {},
   "source": [
    "Ex1: Simple processing pipeline\n",
    "---\n",
    "Simple example showing how to create a processing pipeline and run it using cytoolz.pipe \n",
    "\n",
    "The components of the pipeline are\n",
    "\n",
    "1. Parse read qname\n",
    "2. Compute d_err\n",
    "3. Categorize reads into some categories\n",
    "4. Count 'em"
   ]
  },
  {
   "cell_type": "code",
   "execution_count": 7,
   "metadata": {},
   "outputs": [],
   "source": [
    "max_d = 200\n",
    "n1 = mab.parse_read_qnames(scar_fname)  # This gives us a curried function\n",
    "n2 = mab.compute_derr(max_d=max_d)\n",
    "f_dict = {\n",
    "    'd = 0': lambda mate: mate['d_err'] == 0,\n",
    "    '0 < d <= 50': lambda mate: 0 < mate['d_err'] <= 50,\n",
    "    '50 < d': lambda mate: 50 < mate['d_err'] <= max_d,\n",
    "    'WC': lambda mate: mate['d_err'] == max_d + 1,\n",
    "    'UM': lambda mate: mate['d_err'] == max_d + 2\n",
    "}\n",
    "n3 = mab.categorize_reads(f_dict)\n",
    "n4 = mab.count_reads\n",
    "\n",
    "pipeline = [n1, n2, n3, n4]"
   ]
  },
  {
   "cell_type": "code",
   "execution_count": 8,
   "metadata": {},
   "outputs": [
    {
     "name": "stdout",
     "output_type": "stream",
     "text": [
      "Counter({'d = 0': 359585, 'nocat': 304, '0 < d <= 50': 276, 'WC': 190, '50 < d': 155}) 360510\n",
      "CPU times: user 25 s, sys: 454 ms, total: 25.5 s\n",
      "Wall time: 27.2 s\n"
     ]
    }
   ],
   "source": [
    "%%time \n",
    "counts = cyt.pipe(\n",
    "    bamtoolz.read_bam_st(bam_fname=fname), *pipeline)\n",
    "print(counts, sum(counts.values(), 0))"
   ]
  },
  {
   "cell_type": "markdown",
   "metadata": {},
   "source": [
    "Ex2: Single reads and `scatter`\n",
    "---\n",
    "\n",
    "We now take the original pipeline and pass it to scatter to perform the same operation, but in parallel"
   ]
  },
  {
   "cell_type": "code",
   "execution_count": 10,
   "metadata": {},
   "outputs": [
    {
     "name": "stdout",
     "output_type": "stream",
     "text": [
      "Counter({'d = 0': 359585, 'nocat': 304, '0 < d <= 50': 276, 'WC': 190, '50 < d': 155}) 360510\n",
      "CPU times: user 54.2 ms, sys: 24.5 ms, total: 78.7 ms\n",
      "Wall time: 24.3 s\n"
     ]
    }
   ],
   "source": [
    "%%time \n",
    "counts = sum(\n",
    "    (c for c in bamtoolz.scatter(\n",
    "        pipeline, bam_fname=fname, ncpus=4)\n",
    "    ), mab.Counter())\n",
    "print(counts, sum(counts.values(), 0))"
   ]
  },
  {
   "cell_type": "code",
   "execution_count": 121,
   "metadata": {
    "collapsed": true
   },
   "outputs": [],
   "source": [
    "max_d = 200\n",
    "n1 = mab.parse_read_qnames(scar_fname)  # This gives us a curried function\n",
    "n2 = mab.compute_derr(max_d=max_d)\n",
    "f_dict = {\n",
    "    'd = 0': lambda mate: mate['d_err'] == 0,\n",
    "    '0 < d <= 50': lambda mate: 0 < mate['d_err'] <= 50,\n",
    "    '50 < d': lambda mate: 50 < mate['d_err'] <= max_d,\n",
    "    'WC': lambda mate: mate['d_err'] == max_d + 1,\n",
    "    'UM': lambda mate: mate['d_err'] == max_d + 2\n",
    "}\n",
    "n3 = mab.categorize_reads(f_dict)\n",
    "n4 = mab.count_reads\n",
    "\n",
    "pipeline = [n1, n2, n3, n4]"
   ]
  },
  {
   "cell_type": "code",
   "execution_count": 124,
   "metadata": {},
   "outputs": [
    {
     "name": "stdout",
     "output_type": "stream",
     "text": [
      "Counter({'d = 0': 74249, 'WC': 981, 'UM': 304, '50 < d': 130, 'nocat': 116, '0 < d <= 50': 18}) 75798\n",
      "CPU times: user 36.9 ms, sys: 18 ms, total: 54.8 ms\n",
      "Wall time: 1.85 s\n"
     ]
    }
   ],
   "source": [
    "%%time \n",
    "counts = sum((c for c in bamtoolz.scatter(pipeline, bam_fname=fname, paired=True, ncpus=2)), mab.Counter())\n",
    "print(counts, sum(counts.values(), 0))"
   ]
  },
  {
   "cell_type": "markdown",
   "metadata": {},
   "source": [
    "Ex3: Alignment histogram\n",
    "----------------------\n",
    "\n",
    "\n",
    "\n"
   ]
  },
  {
   "cell_type": "code",
   "execution_count": 25,
   "metadata": {},
   "outputs": [
    {
     "data": {
      "text/plain": [
       "{'max_d': 200,\n",
       " 'mq_bin_edges': (0, 1, 11, 21, 31, 41, 51, 61),\n",
       " 'name': 'PairedAlignmentHistogram',\n",
       " 't_bin_edges': (-inf, 200, 301, 401, 601, inf),\n",
       " 'v_bin_edges': (-inf, -20, 0, 1, 21, inf),\n",
       " 'xd_bin_edges': (-inf,\n",
       "  -100,\n",
       "  -40,\n",
       "  -20,\n",
       "  -10,\n",
       "  -5,\n",
       "  0,\n",
       "  1,\n",
       "  6,\n",
       "  11,\n",
       "  21,\n",
       "  41,\n",
       "  101,\n",
       "  inf),\n",
       " 'xt_bin_edges': (-inf,\n",
       "  -100,\n",
       "  -40,\n",
       "  -20,\n",
       "  -10,\n",
       "  -5,\n",
       "  0,\n",
       "  1,\n",
       "  6,\n",
       "  11,\n",
       "  21,\n",
       "  41,\n",
       "  101,\n",
       "  inf)}"
      ]
     },
     "execution_count": 25,
     "metadata": {},
     "output_type": "execute_result"
    }
   ],
   "source": [
    "max_d = 200\n",
    "n1 = mab.parse_read_qnames(scar_fname)  # This gives us a curried function\n",
    "n2 = mab.compute_derr(max_d=max_d)\n",
    "p1 = mab.default_histogram_parameters()  # The full 8D histogram\n",
    "p1"
   ]
  },
  {
   "cell_type": "code",
   "execution_count": 26,
   "metadata": {},
   "outputs": [],
   "source": [
    "p2 = mab.default_histogram_parameters()  # We'll do a detailed dive into MQ and d_err here\n",
    "p2['mq_bin_edges'] = list(range(62))\n",
    "p2['v_bin_edges'] = None\n",
    "p2['t_bin_edges'] = None\n",
    "p2['xt_bin_edges'] = None\n",
    "p2['v_bin_edges'] = None"
   ]
  },
  {
   "cell_type": "code",
   "execution_count": 27,
   "metadata": {
    "collapsed": true
   },
   "outputs": [],
   "source": [
    "n3 = mab.histograminator(histogram_def=[p1, p2])"
   ]
  },
  {
   "cell_type": "code",
   "execution_count": 28,
   "metadata": {
    "collapsed": true
   },
   "outputs": [],
   "source": [
    "pipeline = [n1, n2, n3]"
   ]
  },
  {
   "cell_type": "code",
   "execution_count": 34,
   "metadata": {},
   "outputs": [
    {
     "name": "stdout",
     "output_type": "stream",
     "text": [
      "CPU times: user 32.5 s, sys: 978 ms, total: 33.5 s\n",
      "Wall time: 36.9 s\n"
     ]
    }
   ],
   "source": [
    "%%time \n",
    "h8 = cyt.pipe(\n",
    "    bamtoolz.read_bam_paired_st(bam_fname=fname), \n",
    "    *pipeline)"
   ]
  },
  {
   "cell_type": "code",
   "execution_count": 46,
   "metadata": {},
   "outputs": [
    {
     "data": {
      "text/plain": [
       "OrderedDict([('max_v', 22),\n",
       "             ('bin_centers',\n",
       "              [array([  -inf,  -70. ,  -30. ,  -15. ,   -7.5,   -2.5,    0.5,    3.5,\n",
       "                         8.5,   16. ,   31. ,   71. ,  151. ,  201.5,  202.5]),\n",
       "               array([  -inf,  -70. ,  -30. ,  -15. ,   -7.5,   -2.5,    0.5,    3.5,\n",
       "                         8.5,   16. ,   31. ,   71. ,  151. ,  201.5,  202.5]),\n",
       "               array([  0.5,   6. ,  16. ,  26. ,  36. ,  46. ,  56. ]),\n",
       "               array([  0.5,   6. ,  16. ,  26. ,  36. ,  46. ,  56. ]),\n",
       "               array([ -inf, -10. ,   0.5,  11. ,  22. ,  23.5,  24.5]),\n",
       "               array([ -inf, -10. ,   0.5,  11. ,  22. ,  23.5,  24.5]),\n",
       "               array([ -inf, -70. , -30. , -15. ,  -7.5,  -2.5,   0.5,   3.5,   8.5,\n",
       "                       16. ,  31. ,  71. ,   inf]),\n",
       "               array([  -inf,  250.5,  351. ,  501. ,    inf])]),\n",
       "             ('description',\n",
       "              ['alignment error mate 1',\n",
       "               'alignment error mate 2',\n",
       "               'mapping quality mate 1',\n",
       "               'mapping quality mate 2',\n",
       "               'length of variant carried by mate 1',\n",
       "               'length of variant carried by mate 2',\n",
       "               'template length error',\n",
       "               'Correct template length']),\n",
       "             ('bin_edges',\n",
       "              [array([ -inf, -100.,  -40.,  -20.,  -10.,   -5.,    0.,    1.,    6.,\n",
       "                        11.,   21.,   41.,  101.,  201.,  202.,  203.]),\n",
       "               array([ -inf, -100.,  -40.,  -20.,  -10.,   -5.,    0.,    1.,    6.,\n",
       "                        11.,   21.,   41.,  101.,  201.,  202.,  203.]),\n",
       "               array([ 0,  1, 11, 21, 31, 41, 51, 61]),\n",
       "               array([ 0,  1, 11, 21, 31, 41, 51, 61]),\n",
       "               array([-inf, -20.,   0.,   1.,  21.,  23.,  24.,  25.]),\n",
       "               array([-inf, -20.,   0.,   1.,  21.,  23.,  24.,  25.]),\n",
       "               array([ -inf, -100.,  -40.,  -20.,  -10.,   -5.,    0.,    1.,    6.,\n",
       "                        11.,   21.,   41.,  101.,   inf]),\n",
       "               array([ -inf,  200.,  301.,  401.,  601.,   inf])]),\n",
       "             ('max_d', 200)])"
      ]
     },
     "execution_count": 46,
     "metadata": {},
     "output_type": "execute_result"
    }
   ],
   "source": [
    "h8[0].attrs"
   ]
  },
  {
   "cell_type": "code",
   "execution_count": 36,
   "metadata": {},
   "outputs": [
    {
     "data": {
      "text/plain": [
       "<xarray.DataArray 'PairedAlignmentHistogram' ()>\n",
       "array(180255)"
      ]
     },
     "execution_count": 36,
     "metadata": {},
     "output_type": "execute_result"
    }
   ],
   "source": [
    "h8[1].sum()"
   ]
  },
  {
   "cell_type": "code",
   "execution_count": 37,
   "metadata": {},
   "outputs": [
    {
     "data": {
      "image/png": "[encoded data removed]",
      "text/plain": [
       "<matplotlib.figure.Figure at 0x111920390>"
      ]
     },
     "metadata": {},
     "output_type": "display_data"
    }
   ],
   "source": [
    "p2 = mab.collapse(h8[0], xd1=None, xd2=None)\n",
    "mapl.plot_hist2D(p2)\n",
    "plt.show()"
   ]
  },
  {
   "cell_type": "code",
   "execution_count": 41,
   "metadata": {},
   "outputs": [
    {
     "data": {
      "image/png": "[encoded data removed]",
      "text/plain": [
       "<matplotlib.figure.Figure at 0x11191ed30>"
      ]
     },
     "metadata": {},
     "output_type": "display_data"
    }
   ],
   "source": [
    "p2 = mab.collapse(h8[1], mq1=None)\n",
    "mapl.plot_hist1D(p2)\n",
    "plt.show()"
   ]
  },
  {
   "cell_type": "code",
   "execution_count": 42,
   "metadata": {},
   "outputs": [
    {
     "data": {
      "image/png": "[encoded data removed]",
      "text/plain": [
       "<matplotlib.figure.Figure at 0x109372b38>"
      ]
     },
     "metadata": {},
     "output_type": "display_data"
    }
   ],
   "source": [
    "p2 = mab.collapse(h8[1], mq2=None)\n",
    "mapl.plot_hist1D(p2)\n",
    "plt.show()"
   ]
  },
  {
   "cell_type": "code",
   "execution_count": 44,
   "metadata": {},
   "outputs": [
    {
     "data": {
      "image/png": "[encoded data removed]",
      "text/plain": [
       "<matplotlib.figure.Figure at 0x108f15e10>"
      ]
     },
     "metadata": {},
     "output_type": "display_data"
    }
   ],
   "source": [
    "p2 = mab.collapse(h8[1], mq1=None, mq2=None)\n",
    "mapl.plot_hist2D(p2)\n",
    "plt.show()"
   ]
  },
  {
   "cell_type": "code",
   "execution_count": 151,
   "metadata": {
    "collapsed": true
   },
   "outputs": [],
   "source": [
    "max_d = 200\n",
    "n1 = mab.parse_read_qnames(scar_fname)  # This gives us a curried function\n",
    "n2 = mab.compute_derr(max_d=max_d)\n",
    "p1 = mab.initialize_pah(name='FullHist')\n",
    "n3 = mab.histogramize(pah=p1)\n",
    "\n",
    "pipeline = [n1, n2, n3]"
   ]
  },
  {
   "cell_type": "code",
   "execution_count": 152,
   "metadata": {},
   "outputs": [
    {
     "name": "stdout",
     "output_type": "stream",
     "text": [
      "<xarray.DataArray 'FullHist' ()>\n",
      "array(44)\n",
      "<xarray.DataArray 'FullHist' ()>\n",
      "array(180211)\n",
      "<xarray.DataArray 'FullHist' ()>\n",
      "array(180255)\n",
      "CPU times: user 445 ms, sys: 9.79 s, total: 10.2 s\n",
      "Wall time: 40 s\n"
     ]
    }
   ],
   "source": [
    "%%time\n",
    "h8 = None\n",
    "for h in bamtoolz.scatter(\n",
    "    pipeline, \n",
    "    bam_fname=fname, paired=True, ncpus=2):\n",
    "    print(h.sum())\n",
    "    if h8 is None:\n",
    "        h8 = h\n",
    "    else:\n",
    "        h8 += h   \n",
    "print(h8.sum())"
   ]
  },
  {
   "cell_type": "code",
   "execution_count": 153,
   "metadata": {},
   "outputs": [
    {
     "data": {
      "image/png": "[encoded data removed]",
      "text/plain": [
       "<matplotlib.figure.Figure at 0x109dc89b0>"
      ]
     },
     "metadata": {},
     "output_type": "display_data"
    }
   ],
   "source": [
    "p2 = mab.collapse(h8, xd1=None, xd2=None)\n",
    "mapl.plot_hist(p2)\n",
    "plt.show()"
   ]
  },
  {
   "cell_type": "code",
   "execution_count": 75,
   "metadata": {},
   "outputs": [
    {
     "data": {
      "text/plain": [
       "<xarray.DataArray 'FullHist' ()>\n",
       "array(360510)"
      ]
     },
     "execution_count": 75,
     "metadata": {},
     "output_type": "execute_result"
    }
   ],
   "source": [
    "h8.sum()"
   ]
  },
  {
   "cell_type": "code",
   "execution_count": 86,
   "metadata": {},
   "outputs": [
    {
     "data": {
      "text/plain": [
       "<xarray.DataArray 'FullHist' ()>\n",
       "array(721125)"
      ]
     },
     "execution_count": 86,
     "metadata": {},
     "output_type": "execute_result"
    }
   ],
   "source": [
    "h10.sum()"
   ]
  },
  {
   "cell_type": "markdown",
   "metadata": {},
   "source": [
    "Ex2\n",
    "---\n",
    "More involved example showing, in sequence:\n",
    "\n",
    "1. Reading from a BAM\n",
    "2. Pairing up the reads\n",
    "3. Parse qnames (this is a simulated data set)\n",
    "4. Compte d_err for the reads\n",
    "5. Categorize reads based on d_err\n",
    "6. Count reads in each category\n",
    "7. Filter to keep non-reference reads only. Keep a pair only if both reads are non-ref\n",
    "8. Re-Categorize reads based on d_err\n",
    "9. Re-Count reads in each category\n",
    "\n",
    "At the end the category counts are comparatively plotted."
   ]
  },
  {
   "cell_type": "code",
   "execution_count": 5,
   "metadata": {
    "collapsed": true
   },
   "outputs": [],
   "source": [
    "r1 = mab.read_bam(bam_fname=fname)\n",
    "r2 = mab.make_pairs\n",
    "r3 = mab.parse_read_qnames(scar_fname)\n",
    "r4 = mab.compute_derr(max_d=200)\n",
    "\n",
    "f_dict = {\n",
    "    'd = 0': lambda mate: mate['d_err'] == 0,\n",
    "    '0 < d <= 50': lambda mate: 0 < mate['d_err'] <= 50,\n",
    "    '50 < d': lambda mate: 50 < mate['d_err'] < 200,\n",
    "    'WC': lambda mate: 200 < mate['d_err'],\n",
    "    'UM': lambda mate: mate['read'].is_unmapped\n",
    "}\n",
    "r5 = mab.categorize_reads(f_dict)\n",
    "all_counts = {}\n",
    "r6 = mab.count_reads(all_counts) \n",
    "r7 = mab.filter_reads(mab.non_ref(), all)\n",
    "r8 = mab.categorize_reads(f_dict)\n",
    "nr_counts = {}\n",
    "r9 = mab.count_reads(nr_counts)\n",
    "\n",
    "for r in cyt.pipe(r1, r2, r3, r4, r5, r6, r7, r8, r9):\n",
    "    pass"
   ]
  },
  {
   "cell_type": "markdown",
   "metadata": {},
   "source": [
    "The new concept here is the use of a dictionary of filters to supply to the categorization function. The result is stored in the `all_counts` and `nr_counts` dictionaries which need to be preallocated and passed to the counting function which modifes them."
   ]
  },
  {
   "cell_type": "code",
   "execution_count": 6,
   "metadata": {},
   "outputs": [
    {
     "data": {
      "image/png": "[encoded data removed]",
      "text/plain": [
       "<matplotlib.figure.Figure at 0x10950de10>"
      ]
     },
     "metadata": {},
     "output_type": "display_data"
    }
   ],
   "source": [
    "mapl.plot_read_counts(ax=plt.subplot(1, 1, 1), \n",
    "                      counts_l=[all_counts, nr_counts],\n",
    "                      labels=['All', 'non-ref'],\n",
    "                      keys=['d = 0', '0 < d <= 50', '50 < d', 'WC', 'UM'], \n",
    "                      colors=None)\n",
    "plt.show()"
   ]
  },
  {
   "cell_type": "markdown",
   "metadata": {},
   "source": [
    "Ex3\n",
    "---\n",
    "Alignment metrics plotting example\n",
    "\n",
    "1. Read BAMs\n",
    "2. Compute PairedAlignmentHistogram\n",
    "3. Plot slices of the alignment"
   ]
  },
  {
   "cell_type": "code",
   "execution_count": 7,
   "metadata": {
    "collapsed": true
   },
   "outputs": [],
   "source": [
    "max_d = 200\n",
    "r1 = mab.read_bam(bam_fname=fname)\n",
    "r2 = mab.make_pairs\n",
    "r3 = mab.parse_read_qnames(scar_fname)\n",
    "r4 = mab.compute_derr(max_d=200)\n",
    "\n",
    "p1 = mab.initialize_pah(name='FullHist')\n",
    "mab.histogramize(pah=p1)(cyt.pipe(r1, r2, cyt.take(100000), r3, r4))\n",
    "#mab.save_pah(p1, 'test_hist.pklz')"
   ]
  },
  {
   "cell_type": "code",
   "execution_count": 29,
   "metadata": {},
   "outputs": [
    {
     "data": {
      "image/png": "[encoded data removed]",
      "text/plain": [
       "<matplotlib.figure.Figure at 0x10963a7b8>"
      ]
     },
     "metadata": {},
     "output_type": "display_data"
    }
   ],
   "source": [
    "p2 = mab.collapse(p1, xd1=None, xd2=None)\n",
    "mapl.plot_hist(p2)\n",
    "plt.show()"
   ]
  },
  {
   "cell_type": "markdown",
   "metadata": {},
   "source": [
    "The plot suggests that the error in aligning mate1 is largely unrelated to the error in aligning mate2 except for some cases where both mates are off by about the same amount  in the same direction (top, right and bottom left corners) or in opposite directions."
   ]
  },
  {
   "cell_type": "code",
   "execution_count": 28,
   "metadata": {},
   "outputs": [
    {
     "data": {
      "text/plain": [
       "36987"
      ]
     },
     "execution_count": 28,
     "metadata": {},
     "output_type": "execute_result"
    }
   ],
   "source": [
    "p2 = mab.collapse(p1, xd1=None, xd2=None)\n",
    "mapl.plot_hist(p2)\n",
    "plt.show()"
   ]
  },
  {
   "cell_type": "code",
   "execution_count": 68,
   "metadata": {},
   "outputs": [
    {
     "data": {
      "image/png": "[encoded data removed]",
      "text/plain": [
       "<matplotlib.figure.Figure at 0x116363a58>"
      ]
     },
     "metadata": {},
     "output_type": "display_data"
    }
   ],
   "source": [
    "p2 = mab.collapse(p1, mq1=None, mq2=None)\n",
    "mapl.plot_hist(p2)\n",
    "plt.show()"
   ]
  },
  {
   "cell_type": "code",
   "execution_count": 47,
   "metadata": {},
   "outputs": [
    {
     "data": {
      "text/plain": [
       "OrderedDict([('max_v', None),\n",
       "             ('bin_centers',\n",
       "              [array([  -inf,  -70. ,  -30. ,  -15. ,   -7.5,   -2.5,    0.5,    3.5,\n",
       "                         8.5,   16. ,   31. ,   71. ,  151. ,  201.5,  202.5]),\n",
       "               array([  -inf,  -70. ,  -30. ,  -15. ,   -7.5,   -2.5,    0.5,    3.5,\n",
       "                         8.5,   16. ,   31. ,   71. ,  151. ,  201.5,  202.5]),\n",
       "               array([  0.5,   1.5,   2.5,   3.5,   4.5,   5.5,   6.5,   7.5,   8.5,\n",
       "                        9.5,  10.5,  11.5,  12.5,  13.5,  14.5,  15.5,  16.5,  17.5,\n",
       "                       18.5,  19.5,  20.5,  21.5,  22.5,  23.5,  24.5,  25.5,  26.5,\n",
       "                       27.5,  28.5,  29.5,  30.5,  31.5,  32.5,  33.5,  34.5,  35.5,\n",
       "                       36.5,  37.5,  38.5,  39.5,  40.5,  41.5,  42.5,  43.5,  44.5,\n",
       "                       45.5,  46.5,  47.5,  48.5,  49.5,  50.5,  51.5,  52.5,  53.5,\n",
       "                       54.5,  55.5,  56.5,  57.5,  58.5,  59.5,  60.5]),\n",
       "               array([  0.5,   1.5,   2.5,   3.5,   4.5,   5.5,   6.5,   7.5,   8.5,\n",
       "                        9.5,  10.5,  11.5,  12.5,  13.5,  14.5,  15.5,  16.5,  17.5,\n",
       "                       18.5,  19.5,  20.5,  21.5,  22.5,  23.5,  24.5,  25.5,  26.5,\n",
       "                       27.5,  28.5,  29.5,  30.5,  31.5,  32.5,  33.5,  34.5,  35.5,\n",
       "                       36.5,  37.5,  38.5,  39.5,  40.5,  41.5,  42.5,  43.5,  44.5,\n",
       "                       45.5,  46.5,  47.5,  48.5,  49.5,  50.5,  51.5,  52.5,  53.5,\n",
       "                       54.5,  55.5,  56.5,  57.5,  58.5,  59.5,  60.5])]),\n",
       "             ('description',\n",
       "              ['alignment error mate 1',\n",
       "               'alignment error mate 2',\n",
       "               'mapping quality mate 1',\n",
       "               'mapping quality mate 2']),\n",
       "             ('bin_edges',\n",
       "              [array([ -inf, -100.,  -40.,  -20.,  -10.,   -5.,    0.,    1.,    6.,\n",
       "                        11.,   21.,   41.,  101.,  201.,  202.,  203.]),\n",
       "               array([ -inf, -100.,  -40.,  -20.,  -10.,   -5.,    0.,    1.,    6.,\n",
       "                        11.,   21.,   41.,  101.,  201.,  202.,  203.]),\n",
       "               array([ 0,  1,  2,  3,  4,  5,  6,  7,  8,  9, 10, 11, 12, 13, 14, 15, 16,\n",
       "                      17, 18, 19, 20, 21, 22, 23, 24, 25, 26, 27, 28, 29, 30, 31, 32, 33,\n",
       "                      34, 35, 36, 37, 38, 39, 40, 41, 42, 43, 44, 45, 46, 47, 48, 49, 50,\n",
       "                      51, 52, 53, 54, 55, 56, 57, 58, 59, 60, 61]),\n",
       "               array([ 0,  1,  2,  3,  4,  5,  6,  7,  8,  9, 10, 11, 12, 13, 14, 15, 16,\n",
       "                      17, 18, 19, 20, 21, 22, 23, 24, 25, 26, 27, 28, 29, 30, 31, 32, 33,\n",
       "                      34, 35, 36, 37, 38, 39, 40, 41, 42, 43, 44, 45, 46, 47, 48, 49, 50,\n",
       "                      51, 52, 53, 54, 55, 56, 57, 58, 59, 60, 61]),\n",
       "               array(None, dtype=object),\n",
       "               array(None, dtype=object),\n",
       "               array(None, dtype=object),\n",
       "               array(None, dtype=object)]),\n",
       "             ('max_d', 200)])"
      ]
     },
     "execution_count": 47,
     "metadata": {},
     "output_type": "execute_result"
    }
   ],
   "source": [
    "p2.attrs"
   ]
  },
  {
   "cell_type": "code",
   "execution_count": 66,
   "metadata": {},
   "outputs": [
    {
     "data": {
      "image/png": "[encoded data removed]",
      "text/plain": [
       "<matplotlib.figure.Figure at 0x1168a3b70>"
      ]
     },
     "metadata": {},
     "output_type": "display_data"
    }
   ],
   "source": [
    "p2 = mab.collapse(p1, xd1=None, mq1=None)\n",
    "mapl.plot_hist(p2)\n",
    "plt.show()"
   ]
  },
  {
   "cell_type": "code",
   "execution_count": 100,
   "metadata": {},
   "outputs": [
    {
     "data": {
      "text/plain": [
       "<xarray.DataArray 'v1' (v1: 7)>\n",
       "array(['-inf <= V < -20', '-20 <= V < 0', '0 <= V < 1', '1 <= V < 21',\n",
       "       '21 <= V < 23', 'Ref', 'V+'], \n",
       "      dtype='<U15')\n",
       "Coordinates:\n",
       "  * v1       (v1) <U15 '-inf <= V < -20' '-20 <= V < 0' '0 <= V < 1' ..."
      ]
     },
     "execution_count": 100,
     "metadata": {},
     "output_type": "execute_result"
    }
   ],
   "source": [
    "p1.coords['v1']"
   ]
  },
  {
   "cell_type": "code",
   "execution_count": 103,
   "metadata": {},
   "outputs": [
    {
     "data": {
      "image/png": "[encoded data removed]",
      "text/plain": [
       "<matplotlib.figure.Figure at 0x10886d390>"
      ]
     },
     "metadata": {},
     "output_type": "display_data"
    }
   ],
   "source": [
    "p2_r = mab.collapse(p1, xt=None, v1=(5, 6), v2=(5, 6))\n",
    "p2_snp = mab.collapse(p1, xt=None, v1=(2, 3), v2=(5, 6))\n",
    "\n",
    "plt.semilogy(p2_r/p2_r.max(), label='Ref')\n",
    "plt.semilogy(p2_snp/p2_snp.max(), label='SNP(1)')\n",
    "\n",
    "plt.legend(loc='best')\n",
    "plt.xticks(range(p2_r.shape[0]), p2_r.coords['xt'].data, rotation='vertical')\n",
    "plt.show()"
   ]
  },
  {
   "cell_type": "code",
   "execution_count": 137,
   "metadata": {},
   "outputs": [
    {
     "data": {
      "image/png": "[encoded data removed]",
      "text/plain": [
       "<matplotlib.figure.Figure at 0x1095e3828>"
      ]
     },
     "metadata": {},
     "output_type": "display_data"
    }
   ],
   "source": [
    "p2_1 = mab.collapse(p1, xt=None, mq1=None)\n",
    "p2_2 = mab.collapse(p1, xt=None, mq2=None)\n",
    "\n",
    "fig, ax = plt.subplots(1, 2, figsize=(13, 5))\n",
    "plt.subplots_adjust(wspace=0.5)\n",
    "\n",
    "mapl.plot_hist(p2_1.T, ax[0])\n",
    "mapl.plot_hist(p2_2.T, ax[1])\n",
    "\n",
    "plt.show()"
   ]
  },
  {
   "cell_type": "code",
   "execution_count": 72,
   "metadata": {},
   "outputs": [
    {
     "data": {
      "image/png": "[encoded data removed]",
      "text/plain": [
       "<matplotlib.figure.Figure at 0x1151fd710>"
      ]
     },
     "metadata": {},
     "output_type": "display_data"
    }
   ],
   "source": [
    "p2 = mab.collapse(p1, t=None, mq1=None)\n",
    "mapl.plot_hist(p2)\n",
    "plt.show()"
   ]
  },
  {
   "cell_type": "code",
   "execution_count": 27,
   "metadata": {},
   "outputs": [
    {
     "data": {
      "image/png": "[encoded data removed]",
      "text/plain": [
       "<matplotlib.figure.Figure at 0x1160c5f60>"
      ]
     },
     "metadata": {},
     "output_type": "display_data"
    }
   ],
   "source": [
    "p2 = mab.collapse(p1, mq1=None)\n",
    "plt.semilogy(p2)\n",
    "plt.xticks(range(p2.coords['mq1'].values.size), p2.coords['mq1'].values, rotation='vertical')\n",
    "plt.show()"
   ]
  },
  {
   "cell_type": "code",
   "execution_count": 58,
   "metadata": {},
   "outputs": [
    {
     "data": {
      "image/png": "[encoded data removed]",
      "text/plain": [
       "<matplotlib.figure.Figure at 0x1299ffbe0>"
      ]
     },
     "metadata": {},
     "output_type": "display_data"
    }
   ],
   "source": [
    "p2 = mab.collapse(p1, xd1=None, xd2=None, v1=(1, 2), v2=(5, 6))\n",
    "mab.plot_hist(p2)\n",
    "plt.show()"
   ]
  },
  {
   "cell_type": "code",
   "execution_count": 34,
   "metadata": {},
   "outputs": [
    {
     "ename": "NameError",
     "evalue": "name 'tostring' is not defined",
     "output_type": "error",
     "traceback": [
      "\u001b[0;31m---------------------------------------------------------------------------\u001b[0m",
      "\u001b[0;31mNameError\u001b[0m                                 Traceback (most recent call last)",
      "\u001b[0;32m<ipython-input-34-70532f8598f8>\u001b[0m in \u001b[0;36m<module>\u001b[0;34m()\u001b[0m\n\u001b[1;32m      2\u001b[0m \u001b[0;34m\u001b[0m\u001b[0m\n\u001b[1;32m      3\u001b[0m \u001b[0;32mfor\u001b[0m \u001b[0mr\u001b[0m \u001b[0;32min\u001b[0m \u001b[0mcyt\u001b[0m\u001b[0;34m.\u001b[0m\u001b[0mpipe\u001b[0m\u001b[0;34m(\u001b[0m\u001b[0mr1\u001b[0m\u001b[0;34m,\u001b[0m \u001b[0mcyt\u001b[0m\u001b[0;34m.\u001b[0m\u001b[0mtake\u001b[0m\u001b[0;34m(\u001b[0m\u001b[0;36m20\u001b[0m\u001b[0;34m)\u001b[0m\u001b[0;34m)\u001b[0m\u001b[0;34m:\u001b[0m\u001b[0;34m\u001b[0m\u001b[0m\n\u001b[0;32m----> 4\u001b[0;31m     \u001b[0mtostring\u001b[0m\u001b[0;34m(\u001b[0m\u001b[0mr\u001b[0m\u001b[0;34m[\u001b[0m\u001b[0;36m0\u001b[0m\u001b[0;34m]\u001b[0m\u001b[0;34m[\u001b[0m\u001b[0;34m'read'\u001b[0m\u001b[0;34m]\u001b[0m\u001b[0;34m)\u001b[0m\u001b[0;34m\u001b[0m\u001b[0m\n\u001b[0m",
      "\u001b[0;31mNameError\u001b[0m: name 'tostring' is not defined"
     ]
    }
   ],
   "source": [
    "r1 = mab.read_bam(bam_fname=fname)\n",
    "\n",
    "for r in cyt.pipe(r1, cyt.take(20)):\n",
    "    tostring(r[0]['read'])"
   ]
  },
  {
   "cell_type": "code",
   "execution_count": 38,
   "metadata": {
    "collapsed": true
   },
   "outputs": [],
   "source": [
    "read = r[0]['read']"
   ]
  },
  {
   "cell_type": "code",
   "execution_count": 41,
   "metadata": {},
   "outputs": [
    {
     "data": {
      "text/plain": [
       "'BT7|HG00119|20:1|1:3429775:40=::|0:3429189:40=::14G8A*\\t161\\t1\\t1461351\\t0\\t8M1D26M6S\\t10\\t33768360\\t0\\tGTGCTAGGTTACAGATGTGAGCCCCCGTGCCCGGCCTTTT\\t=<;>?>?>=1???9#=4>?>>;@#?@??>>>>?=>=??>?\\tNM:i:2\\tMD:Z:5G2^A26\\tAS:i:26\\tXS:i:25\\tXA:Z:5,+137532258,15S25M,0;10,-94493697,17S23M,0;8,+37670470,23M17S,0;13,+26954599,17S23M,0;'"
      ]
     },
     "execution_count": 41,
     "metadata": {},
     "output_type": "execute_result"
    }
   ],
   "source": [
    "read.tostring(mab.pysam.AlignmentFile(fname))"
   ]
  },
  {
   "cell_type": "code",
   "execution_count": 47,
   "metadata": {
    "collapsed": true
   },
   "outputs": [],
   "source": [
    "mab.pysam.AlignmentFile?\n"
   ]
  },
  {
   "cell_type": "code",
   "execution_count": 131,
   "metadata": {},
   "outputs": [
    {
     "data": {
      "image/png": "[encoded data removed]",
      "text/plain": [
       "<matplotlib.figure.Figure at 0x10c6db630>"
      ]
     },
     "metadata": {},
     "output_type": "display_data"
    }
   ],
   "source": [
    "mab.plot_hist(p2)\n",
    "plt.show()"
   ]
  },
  {
   "cell_type": "code",
   "execution_count": 122,
   "metadata": {},
   "outputs": [
    {
     "data": {
      "text/plain": [
       "array(['-inf <= xd < -100', '-100 <= xd < -40', '-40 <= xd < -20',\n",
       "       '-20 <= xd < -10', '-10 <= xd < -5', '-5 <= xd < 0', '0 <= xd < 1',\n",
       "       '1 <= xd < 6', '6 <= xd < 11', '11 <= xd < 21', '21 <= xd < 41',\n",
       "       '41 <= xd < 101', '101 <= xd < 201', 'WC', 'UM'], \n",
       "      dtype='<U17')"
      ]
     },
     "execution_count": 122,
     "metadata": {},
     "output_type": "execute_result"
    }
   ],
   "source": [
    "p2.coords[p2.dims[0]].values"
   ]
  },
  {
   "cell_type": "code",
   "execution_count": 105,
   "metadata": {},
   "outputs": [
    {
     "data": {
      "image/png": "[encoded data removed]",
      "text/plain": [
       "<matplotlib.figure.Figure at 0x1070b2710>"
      ]
     },
     "metadata": {},
     "output_type": "display_data"
    }
   ],
   "source": [
    "ax = plt.subplot(1,1,1)\n",
    "mapl.plot_mean_MQ_vs_derr(ax=ax, dmv_mat=dmv_mat, fmt='yo', ms=5)\n",
    "plt.show()"
   ]
  },
  {
   "cell_type": "code",
   "execution_count": 72,
   "metadata": {
    "collapsed": true
   },
   "outputs": [],
   "source": [
    "p1 = mab.initialize_pah()"
   ]
  },
  {
   "cell_type": "code",
   "execution_count": 74,
   "metadata": {},
   "outputs": [
    {
     "data": {
      "text/plain": [
       "8"
      ]
     },
     "execution_count": 74,
     "metadata": {},
     "output_type": "execute_result"
    }
   ],
   "source": [
    "len(p1.coords)"
   ]
  },
  {
   "cell_type": "code",
   "execution_count": 149,
   "metadata": {},
   "outputs": [
    {
     "data": {
      "image/png": "[encoded data removed]",
      "text/plain": [
       "<matplotlib.figure.Figure at 0x1178ef588>"
      ]
     },
     "metadata": {},
     "output_type": "display_data"
    }
   ],
   "source": [
    "ax1 = plt.subplot(1,1,1)\n",
    "mapl.plot_perr_vs_MQ(ax=ax1, dmv_mat=dmv_mat, yscale='log')\n",
    "ax2 = ax1.twinx()\n",
    "mapl.plot_read_count_vs_MQ(ax=ax2, dmv_mat=dmv_mat)\n",
    "ax2.set_ylabel('Read count', color='r')\n",
    "ax2.tick_params('y', colors='r')\n",
    "ax1.legend(loc='lower right', fontsize=9)\n",
    "plt.show()"
   ]
  },
  {
   "cell_type": "code",
   "execution_count": 117,
   "metadata": {},
   "outputs": [
    {
     "data": {
      "image/png": "[encoded data removed]",
      "text/plain": [
       "<matplotlib.figure.Figure at 0x109f3f2b0>"
      ]
     },
     "metadata": {},
     "output_type": "display_data"
    }
   ],
   "source": [
    "for n, v_bin_label in enumerate(\n",
    "    ['Ref', 'SNP', 'DEL <= 10']):\n",
    "    ax = plt.subplot(1, 3, n + 1)\n",
    "    mapl.hengli_plot(ax=ax, dmv_mat=dmv_mat, v_bin_label=v_bin_label)\n",
    "plt.show()"
   ]
  },
  {
   "cell_type": "markdown",
   "metadata": {},
   "source": [
    "Ex4: Dataframes\n",
    "--------------"
   ]
  },
  {
   "cell_type": "code",
   "execution_count": 150,
   "metadata": {},
   "outputs": [
    {
     "data": {
      "text/html": [
       "<div>\n",
       "<table border=\"1\" class=\"dataframe\">\n",
       "  <thead>\n",
       "    <tr style=\"text-align: right;\">\n",
       "      <th></th>\n",
       "      <th>qname</th>\n",
       "      <th>mate</th>\n",
       "      <th>chrom</th>\n",
       "      <th>pos</th>\n",
       "      <th>cigar</th>\n",
       "      <th>MQ</th>\n",
       "      <th>d_err</th>\n",
       "      <th>correct_chrom</th>\n",
       "      <th>correct_pos</th>\n",
       "      <th>correct_cigar</th>\n",
       "      <th>NM</th>\n",
       "    </tr>\n",
       "  </thead>\n",
       "  <tbody>\n",
       "    <tr>\n",
       "      <th>0</th>\n",
       "      <td>3E78</td>\n",
       "      <td>2</td>\n",
       "      <td>1</td>\n",
       "      <td>13655999</td>\n",
       "      <td>148M102S</td>\n",
       "      <td>0</td>\n",
       "      <td>201</td>\n",
       "      <td>20</td>\n",
       "      <td>2805905</td>\n",
       "      <td>250=</td>\n",
       "      <td>13</td>\n",
       "    </tr>\n",
       "    <tr>\n",
       "      <th>1</th>\n",
       "      <td>3E78</td>\n",
       "      <td>1</td>\n",
       "      <td>1</td>\n",
       "      <td>13656153</td>\n",
       "      <td>250M</td>\n",
       "      <td>0</td>\n",
       "      <td>201</td>\n",
       "      <td>20</td>\n",
       "      <td>2806059</td>\n",
       "      <td>250=</td>\n",
       "      <td>13</td>\n",
       "    </tr>\n",
       "    <tr>\n",
       "      <th>2</th>\n",
       "      <td>V91</td>\n",
       "      <td>2</td>\n",
       "      <td>1</td>\n",
       "      <td>25159291</td>\n",
       "      <td>155M95S</td>\n",
       "      <td>0</td>\n",
       "      <td>201</td>\n",
       "      <td>20</td>\n",
       "      <td>2805632</td>\n",
       "      <td>250=</td>\n",
       "      <td>13</td>\n",
       "    </tr>\n",
       "    <tr>\n",
       "      <th>3</th>\n",
       "      <td>V91</td>\n",
       "      <td>1</td>\n",
       "      <td>1</td>\n",
       "      <td>25159312</td>\n",
       "      <td>21S229M</td>\n",
       "      <td>0</td>\n",
       "      <td>201</td>\n",
       "      <td>20</td>\n",
       "      <td>2805632</td>\n",
       "      <td>250=</td>\n",
       "      <td>13</td>\n",
       "    </tr>\n",
       "    <tr>\n",
       "      <th>4</th>\n",
       "      <td>OMF</td>\n",
       "      <td>1</td>\n",
       "      <td>1</td>\n",
       "      <td>83806363</td>\n",
       "      <td>230M20S</td>\n",
       "      <td>1</td>\n",
       "      <td>201</td>\n",
       "      <td>20</td>\n",
       "      <td>1723777</td>\n",
       "      <td>250=</td>\n",
       "      <td>13</td>\n",
       "    </tr>\n",
       "    <tr>\n",
       "      <th>5</th>\n",
       "      <td>OMF</td>\n",
       "      <td>2</td>\n",
       "      <td>1</td>\n",
       "      <td>83806654</td>\n",
       "      <td>117S133M</td>\n",
       "      <td>1</td>\n",
       "      <td>201</td>\n",
       "      <td>20</td>\n",
       "      <td>1723603</td>\n",
       "      <td>250=</td>\n",
       "      <td>13</td>\n",
       "    </tr>\n",
       "    <tr>\n",
       "      <th>6</th>\n",
       "      <td>1MX7</td>\n",
       "      <td>2</td>\n",
       "      <td>1</td>\n",
       "      <td>90213017</td>\n",
       "      <td>142M108S</td>\n",
       "      <td>13</td>\n",
       "      <td>201</td>\n",
       "      <td>20</td>\n",
       "      <td>1724998</td>\n",
       "      <td>250=</td>\n",
       "      <td>13</td>\n",
       "    </tr>\n",
       "    <tr>\n",
       "      <th>7</th>\n",
       "      <td>1MX7</td>\n",
       "      <td>1</td>\n",
       "      <td>1</td>\n",
       "      <td>90213096</td>\n",
       "      <td>15S235M</td>\n",
       "      <td>13</td>\n",
       "      <td>201</td>\n",
       "      <td>20</td>\n",
       "      <td>1724934</td>\n",
       "      <td>250=</td>\n",
       "      <td>13</td>\n",
       "    </tr>\n",
       "    <tr>\n",
       "      <th>8</th>\n",
       "      <td>1I52</td>\n",
       "      <td>2</td>\n",
       "      <td>1</td>\n",
       "      <td>161392686</td>\n",
       "      <td>174M76S</td>\n",
       "      <td>18</td>\n",
       "      <td>201</td>\n",
       "      <td>20</td>\n",
       "      <td>2999958</td>\n",
       "      <td>250=</td>\n",
       "      <td>13</td>\n",
       "    </tr>\n",
       "    <tr>\n",
       "      <th>9</th>\n",
       "      <td>23Z8</td>\n",
       "      <td>1</td>\n",
       "      <td>1</td>\n",
       "      <td>164432660</td>\n",
       "      <td>222M28S</td>\n",
       "      <td>12</td>\n",
       "      <td>201</td>\n",
       "      <td>20</td>\n",
       "      <td>1723850</td>\n",
       "      <td>250=</td>\n",
       "      <td>13</td>\n",
       "    </tr>\n",
       "    <tr>\n",
       "      <th>10</th>\n",
       "      <td>23Z8</td>\n",
       "      <td>2</td>\n",
       "      <td>1</td>\n",
       "      <td>164432903</td>\n",
       "      <td>130S120M</td>\n",
       "      <td>12</td>\n",
       "      <td>201</td>\n",
       "      <td>20</td>\n",
       "      <td>1723963</td>\n",
       "      <td>250=</td>\n",
       "      <td>13</td>\n",
       "    </tr>\n",
       "    <tr>\n",
       "      <th>11</th>\n",
       "      <td>31U4</td>\n",
       "      <td>2</td>\n",
       "      <td>1</td>\n",
       "      <td>171659447</td>\n",
       "      <td>166M84S</td>\n",
       "      <td>0</td>\n",
       "      <td>201</td>\n",
       "      <td>20</td>\n",
       "      <td>1723954</td>\n",
       "      <td>250=</td>\n",
       "      <td>13</td>\n",
       "    </tr>\n",
       "    <tr>\n",
       "      <th>12</th>\n",
       "      <td>31U4</td>\n",
       "      <td>1</td>\n",
       "      <td>1</td>\n",
       "      <td>171659566</td>\n",
       "      <td>24S226M</td>\n",
       "      <td>0</td>\n",
       "      <td>201</td>\n",
       "      <td>20</td>\n",
       "      <td>1723859</td>\n",
       "      <td>250=</td>\n",
       "      <td>13</td>\n",
       "    </tr>\n",
       "    <tr>\n",
       "      <th>13</th>\n",
       "      <td>2XAL</td>\n",
       "      <td>1</td>\n",
       "      <td>1</td>\n",
       "      <td>195896134</td>\n",
       "      <td>250M</td>\n",
       "      <td>0</td>\n",
       "      <td>201</td>\n",
       "      <td>20</td>\n",
       "      <td>1723416</td>\n",
       "      <td>250=</td>\n",
       "      <td>13</td>\n",
       "    </tr>\n",
       "    <tr>\n",
       "      <th>14</th>\n",
       "      <td>2XAL</td>\n",
       "      <td>2</td>\n",
       "      <td>1</td>\n",
       "      <td>195896317</td>\n",
       "      <td>106S144M</td>\n",
       "      <td>0</td>\n",
       "      <td>201</td>\n",
       "      <td>20</td>\n",
       "      <td>1723339</td>\n",
       "      <td>250=</td>\n",
       "      <td>13</td>\n",
       "    </tr>\n",
       "    <tr>\n",
       "      <th>15</th>\n",
       "      <td>3NDP</td>\n",
       "      <td>2</td>\n",
       "      <td>1</td>\n",
       "      <td>196190464</td>\n",
       "      <td>169M81S</td>\n",
       "      <td>6</td>\n",
       "      <td>201</td>\n",
       "      <td>20</td>\n",
       "      <td>1723466</td>\n",
       "      <td>250=</td>\n",
       "      <td>13</td>\n",
       "    </tr>\n",
       "    <tr>\n",
       "      <th>16</th>\n",
       "      <td>3NDP</td>\n",
       "      <td>1</td>\n",
       "      <td>1</td>\n",
       "      <td>196190500</td>\n",
       "      <td>24S226M</td>\n",
       "      <td>6</td>\n",
       "      <td>201</td>\n",
       "      <td>20</td>\n",
       "      <td>1723454</td>\n",
       "      <td>250=</td>\n",
       "      <td>13</td>\n",
       "    </tr>\n",
       "    <tr>\n",
       "      <th>17</th>\n",
       "      <td>19DY</td>\n",
       "      <td>1</td>\n",
       "      <td>1</td>\n",
       "      <td>212471810</td>\n",
       "      <td>244M6S</td>\n",
       "      <td>0</td>\n",
       "      <td>201</td>\n",
       "      <td>20</td>\n",
       "      <td>2805505</td>\n",
       "      <td>250=</td>\n",
       "      <td>13</td>\n",
       "    </tr>\n",
       "    <tr>\n",
       "      <th>18</th>\n",
       "      <td>19DY</td>\n",
       "      <td>2</td>\n",
       "      <td>1</td>\n",
       "      <td>212471920</td>\n",
       "      <td>110S140M</td>\n",
       "      <td>0</td>\n",
       "      <td>201</td>\n",
       "      <td>20</td>\n",
       "      <td>2805505</td>\n",
       "      <td>250=</td>\n",
       "      <td>13</td>\n",
       "    </tr>\n",
       "    <tr>\n",
       "      <th>19</th>\n",
       "      <td>ET1</td>\n",
       "      <td>2</td>\n",
       "      <td>1</td>\n",
       "      <td>213023234</td>\n",
       "      <td>159M91S</td>\n",
       "      <td>0</td>\n",
       "      <td>201</td>\n",
       "      <td>20</td>\n",
       "      <td>1723777</td>\n",
       "      <td>250=</td>\n",
       "      <td>13</td>\n",
       "    </tr>\n",
       "  </tbody>\n",
       "</table>\n",
       "</div>"
      ],
      "text/plain": [
       "   qname  mate chrom        pos     cigar  MQ  d_err correct_chrom  \\\n",
       "0   3E78     2     1   13655999  148M102S   0    201            20   \n",
       "1   3E78     1     1   13656153      250M   0    201            20   \n",
       "2    V91     2     1   25159291   155M95S   0    201            20   \n",
       "3    V91     1     1   25159312   21S229M   0    201            20   \n",
       "4    OMF     1     1   83806363   230M20S   1    201            20   \n",
       "5    OMF     2     1   83806654  117S133M   1    201            20   \n",
       "6   1MX7     2     1   90213017  142M108S  13    201            20   \n",
       "7   1MX7     1     1   90213096   15S235M  13    201            20   \n",
       "8   1I52     2     1  161392686   174M76S  18    201            20   \n",
       "9   23Z8     1     1  164432660   222M28S  12    201            20   \n",
       "10  23Z8     2     1  164432903  130S120M  12    201            20   \n",
       "11  31U4     2     1  171659447   166M84S   0    201            20   \n",
       "12  31U4     1     1  171659566   24S226M   0    201            20   \n",
       "13  2XAL     1     1  195896134      250M   0    201            20   \n",
       "14  2XAL     2     1  195896317  106S144M   0    201            20   \n",
       "15  3NDP     2     1  196190464   169M81S   6    201            20   \n",
       "16  3NDP     1     1  196190500   24S226M   6    201            20   \n",
       "17  19DY     1     1  212471810    244M6S   0    201            20   \n",
       "18  19DY     2     1  212471920  110S140M   0    201            20   \n",
       "19   ET1     2     1  213023234   159M91S   0    201            20   \n",
       "\n",
       "    correct_pos correct_cigar  NM  \n",
       "0       2805905          250=  13  \n",
       "1       2806059          250=  13  \n",
       "2       2805632          250=  13  \n",
       "3       2805632          250=  13  \n",
       "4       1723777          250=  13  \n",
       "5       1723603          250=  13  \n",
       "6       1724998          250=  13  \n",
       "7       1724934          250=  13  \n",
       "8       2999958          250=  13  \n",
       "9       1723850          250=  13  \n",
       "10      1723963          250=  13  \n",
       "11      1723954          250=  13  \n",
       "12      1723859          250=  13  \n",
       "13      1723416          250=  13  \n",
       "14      1723339          250=  13  \n",
       "15      1723466          250=  13  \n",
       "16      1723454          250=  13  \n",
       "17      2805505          250=  13  \n",
       "18      2805505          250=  13  \n",
       "19      1723777          250=  13  "
      ]
     },
     "execution_count": 150,
     "metadata": {},
     "output_type": "execute_result"
    }
   ],
   "source": [
    "r1 = mab.read_bam(bam_fname=fname, sidecar_fname=scar_fname)\n",
    "r2 = mab.compute_derr(max_d=200)\n",
    "r3 = mab.to_df(tags=['NM'])\n",
    "df = cyt.pipe(r1, r2, cyt.take(20), r3)\n",
    "df"
   ]
  },
  {
   "cell_type": "code",
   "execution_count": 151,
   "metadata": {},
   "outputs": [
    {
     "data": {
      "text/html": [
       "<div>\n",
       "<table border=\"1\" class=\"dataframe\">\n",
       "  <thead>\n",
       "    <tr>\n",
       "      <th></th>\n",
       "      <th>qname</th>\n",
       "      <th colspan=\"9\" halign=\"left\">mate1</th>\n",
       "      <th>...</th>\n",
       "      <th colspan=\"10\" halign=\"left\">mate2</th>\n",
       "    </tr>\n",
       "    <tr>\n",
       "      <th></th>\n",
       "      <th>NaN</th>\n",
       "      <th>mate</th>\n",
       "      <th>chrom</th>\n",
       "      <th>pos</th>\n",
       "      <th>cigar</th>\n",
       "      <th>MQ</th>\n",
       "      <th>d_err</th>\n",
       "      <th>correct_chrom</th>\n",
       "      <th>correct_pos</th>\n",
       "      <th>correct_cigar</th>\n",
       "      <th>...</th>\n",
       "      <th>mate</th>\n",
       "      <th>chrom</th>\n",
       "      <th>pos</th>\n",
       "      <th>cigar</th>\n",
       "      <th>MQ</th>\n",
       "      <th>d_err</th>\n",
       "      <th>correct_chrom</th>\n",
       "      <th>correct_pos</th>\n",
       "      <th>correct_cigar</th>\n",
       "      <th>NM</th>\n",
       "    </tr>\n",
       "  </thead>\n",
       "  <tbody>\n",
       "    <tr>\n",
       "      <th>0</th>\n",
       "      <td>3E78</td>\n",
       "      <td>1</td>\n",
       "      <td>1</td>\n",
       "      <td>13656153</td>\n",
       "      <td>250M</td>\n",
       "      <td>0</td>\n",
       "      <td>201</td>\n",
       "      <td>20</td>\n",
       "      <td>2806059</td>\n",
       "      <td>250=</td>\n",
       "      <td>...</td>\n",
       "      <td>2</td>\n",
       "      <td>1</td>\n",
       "      <td>13655999</td>\n",
       "      <td>148M102S</td>\n",
       "      <td>0</td>\n",
       "      <td>201</td>\n",
       "      <td>20</td>\n",
       "      <td>2805905</td>\n",
       "      <td>250=</td>\n",
       "      <td>12</td>\n",
       "    </tr>\n",
       "    <tr>\n",
       "      <th>1</th>\n",
       "      <td>V91</td>\n",
       "      <td>1</td>\n",
       "      <td>1</td>\n",
       "      <td>25159312</td>\n",
       "      <td>21S229M</td>\n",
       "      <td>0</td>\n",
       "      <td>201</td>\n",
       "      <td>20</td>\n",
       "      <td>2805632</td>\n",
       "      <td>250=</td>\n",
       "      <td>...</td>\n",
       "      <td>2</td>\n",
       "      <td>1</td>\n",
       "      <td>25159291</td>\n",
       "      <td>155M95S</td>\n",
       "      <td>0</td>\n",
       "      <td>201</td>\n",
       "      <td>20</td>\n",
       "      <td>2805632</td>\n",
       "      <td>250=</td>\n",
       "      <td>12</td>\n",
       "    </tr>\n",
       "    <tr>\n",
       "      <th>2</th>\n",
       "      <td>OMF</td>\n",
       "      <td>1</td>\n",
       "      <td>1</td>\n",
       "      <td>83806363</td>\n",
       "      <td>230M20S</td>\n",
       "      <td>1</td>\n",
       "      <td>201</td>\n",
       "      <td>20</td>\n",
       "      <td>1723777</td>\n",
       "      <td>250=</td>\n",
       "      <td>...</td>\n",
       "      <td>2</td>\n",
       "      <td>1</td>\n",
       "      <td>83806654</td>\n",
       "      <td>117S133M</td>\n",
       "      <td>1</td>\n",
       "      <td>201</td>\n",
       "      <td>20</td>\n",
       "      <td>1723603</td>\n",
       "      <td>250=</td>\n",
       "      <td>12</td>\n",
       "    </tr>\n",
       "    <tr>\n",
       "      <th>3</th>\n",
       "      <td>1MX7</td>\n",
       "      <td>1</td>\n",
       "      <td>1</td>\n",
       "      <td>90213096</td>\n",
       "      <td>15S235M</td>\n",
       "      <td>13</td>\n",
       "      <td>201</td>\n",
       "      <td>20</td>\n",
       "      <td>1724934</td>\n",
       "      <td>250=</td>\n",
       "      <td>...</td>\n",
       "      <td>2</td>\n",
       "      <td>1</td>\n",
       "      <td>90213017</td>\n",
       "      <td>142M108S</td>\n",
       "      <td>13</td>\n",
       "      <td>201</td>\n",
       "      <td>20</td>\n",
       "      <td>1724998</td>\n",
       "      <td>250=</td>\n",
       "      <td>12</td>\n",
       "    </tr>\n",
       "    <tr>\n",
       "      <th>4</th>\n",
       "      <td>23Z8</td>\n",
       "      <td>1</td>\n",
       "      <td>1</td>\n",
       "      <td>164432660</td>\n",
       "      <td>222M28S</td>\n",
       "      <td>12</td>\n",
       "      <td>201</td>\n",
       "      <td>20</td>\n",
       "      <td>1723850</td>\n",
       "      <td>250=</td>\n",
       "      <td>...</td>\n",
       "      <td>2</td>\n",
       "      <td>1</td>\n",
       "      <td>164432903</td>\n",
       "      <td>130S120M</td>\n",
       "      <td>12</td>\n",
       "      <td>201</td>\n",
       "      <td>20</td>\n",
       "      <td>1723963</td>\n",
       "      <td>250=</td>\n",
       "      <td>12</td>\n",
       "    </tr>\n",
       "    <tr>\n",
       "      <th>5</th>\n",
       "      <td>31U4</td>\n",
       "      <td>1</td>\n",
       "      <td>1</td>\n",
       "      <td>171659566</td>\n",
       "      <td>24S226M</td>\n",
       "      <td>0</td>\n",
       "      <td>201</td>\n",
       "      <td>20</td>\n",
       "      <td>1723859</td>\n",
       "      <td>250=</td>\n",
       "      <td>...</td>\n",
       "      <td>2</td>\n",
       "      <td>1</td>\n",
       "      <td>171659447</td>\n",
       "      <td>166M84S</td>\n",
       "      <td>0</td>\n",
       "      <td>201</td>\n",
       "      <td>20</td>\n",
       "      <td>1723954</td>\n",
       "      <td>250=</td>\n",
       "      <td>12</td>\n",
       "    </tr>\n",
       "    <tr>\n",
       "      <th>6</th>\n",
       "      <td>2XAL</td>\n",
       "      <td>1</td>\n",
       "      <td>1</td>\n",
       "      <td>195896134</td>\n",
       "      <td>250M</td>\n",
       "      <td>0</td>\n",
       "      <td>201</td>\n",
       "      <td>20</td>\n",
       "      <td>1723416</td>\n",
       "      <td>250=</td>\n",
       "      <td>...</td>\n",
       "      <td>2</td>\n",
       "      <td>1</td>\n",
       "      <td>195896317</td>\n",
       "      <td>106S144M</td>\n",
       "      <td>0</td>\n",
       "      <td>201</td>\n",
       "      <td>20</td>\n",
       "      <td>1723339</td>\n",
       "      <td>250=</td>\n",
       "      <td>12</td>\n",
       "    </tr>\n",
       "    <tr>\n",
       "      <th>7</th>\n",
       "      <td>3NDP</td>\n",
       "      <td>1</td>\n",
       "      <td>1</td>\n",
       "      <td>196190500</td>\n",
       "      <td>24S226M</td>\n",
       "      <td>6</td>\n",
       "      <td>201</td>\n",
       "      <td>20</td>\n",
       "      <td>1723454</td>\n",
       "      <td>250=</td>\n",
       "      <td>...</td>\n",
       "      <td>2</td>\n",
       "      <td>1</td>\n",
       "      <td>196190464</td>\n",
       "      <td>169M81S</td>\n",
       "      <td>6</td>\n",
       "      <td>201</td>\n",
       "      <td>20</td>\n",
       "      <td>1723466</td>\n",
       "      <td>250=</td>\n",
       "      <td>12</td>\n",
       "    </tr>\n",
       "    <tr>\n",
       "      <th>8</th>\n",
       "      <td>19DY</td>\n",
       "      <td>1</td>\n",
       "      <td>1</td>\n",
       "      <td>212471810</td>\n",
       "      <td>244M6S</td>\n",
       "      <td>0</td>\n",
       "      <td>201</td>\n",
       "      <td>20</td>\n",
       "      <td>2805505</td>\n",
       "      <td>250=</td>\n",
       "      <td>...</td>\n",
       "      <td>2</td>\n",
       "      <td>1</td>\n",
       "      <td>212471920</td>\n",
       "      <td>110S140M</td>\n",
       "      <td>0</td>\n",
       "      <td>201</td>\n",
       "      <td>20</td>\n",
       "      <td>2805505</td>\n",
       "      <td>250=</td>\n",
       "      <td>12</td>\n",
       "    </tr>\n",
       "    <tr>\n",
       "      <th>9</th>\n",
       "      <td>ET1</td>\n",
       "      <td>1</td>\n",
       "      <td>1</td>\n",
       "      <td>213023701</td>\n",
       "      <td>12S238M</td>\n",
       "      <td>0</td>\n",
       "      <td>201</td>\n",
       "      <td>20</td>\n",
       "      <td>1723322</td>\n",
       "      <td>250=</td>\n",
       "      <td>...</td>\n",
       "      <td>2</td>\n",
       "      <td>1</td>\n",
       "      <td>213023234</td>\n",
       "      <td>159M91S</td>\n",
       "      <td>0</td>\n",
       "      <td>201</td>\n",
       "      <td>20</td>\n",
       "      <td>1723777</td>\n",
       "      <td>250=</td>\n",
       "      <td>12</td>\n",
       "    </tr>\n",
       "    <tr>\n",
       "      <th>10</th>\n",
       "      <td>NAH</td>\n",
       "      <td>1</td>\n",
       "      <td>1</td>\n",
       "      <td>244686794</td>\n",
       "      <td>225M25S</td>\n",
       "      <td>0</td>\n",
       "      <td>201</td>\n",
       "      <td>20</td>\n",
       "      <td>3479486</td>\n",
       "      <td>250=</td>\n",
       "      <td>...</td>\n",
       "      <td>2</td>\n",
       "      <td>1</td>\n",
       "      <td>244686886</td>\n",
       "      <td>92S158M</td>\n",
       "      <td>0</td>\n",
       "      <td>201</td>\n",
       "      <td>20</td>\n",
       "      <td>3479486</td>\n",
       "      <td>250=</td>\n",
       "      <td>12</td>\n",
       "    </tr>\n",
       "    <tr>\n",
       "      <th>11</th>\n",
       "      <td>I8D</td>\n",
       "      <td>1</td>\n",
       "      <td>2</td>\n",
       "      <td>14992152</td>\n",
       "      <td>250M</td>\n",
       "      <td>0</td>\n",
       "      <td>201</td>\n",
       "      <td>20</td>\n",
       "      <td>3479428</td>\n",
       "      <td>250=</td>\n",
       "      <td>...</td>\n",
       "      <td>2</td>\n",
       "      <td>2</td>\n",
       "      <td>14992155</td>\n",
       "      <td>3S169M78S</td>\n",
       "      <td>0</td>\n",
       "      <td>201</td>\n",
       "      <td>20</td>\n",
       "      <td>3479428</td>\n",
       "      <td>250=</td>\n",
       "      <td>12</td>\n",
       "    </tr>\n",
       "    <tr>\n",
       "      <th>12</th>\n",
       "      <td>298B</td>\n",
       "      <td>1</td>\n",
       "      <td>2</td>\n",
       "      <td>66343926</td>\n",
       "      <td>141M1I106M2S</td>\n",
       "      <td>1</td>\n",
       "      <td>201</td>\n",
       "      <td>20</td>\n",
       "      <td>1725120</td>\n",
       "      <td>250=</td>\n",
       "      <td>...</td>\n",
       "      <td>2</td>\n",
       "      <td>2</td>\n",
       "      <td>66344097</td>\n",
       "      <td>94S156M</td>\n",
       "      <td>1</td>\n",
       "      <td>201</td>\n",
       "      <td>20</td>\n",
       "      <td>1725042</td>\n",
       "      <td>250=</td>\n",
       "      <td>12</td>\n",
       "    </tr>\n",
       "    <tr>\n",
       "      <th>13</th>\n",
       "      <td>3CA5</td>\n",
       "      <td>1</td>\n",
       "      <td>2</td>\n",
       "      <td>173183389</td>\n",
       "      <td>233M17S</td>\n",
       "      <td>14</td>\n",
       "      <td>201</td>\n",
       "      <td>20</td>\n",
       "      <td>1723043</td>\n",
       "      <td>59=1X9=1X13=1X166=</td>\n",
       "      <td>...</td>\n",
       "      <td>2</td>\n",
       "      <td>2</td>\n",
       "      <td>173183577</td>\n",
       "      <td>98S147M5S</td>\n",
       "      <td>14</td>\n",
       "      <td>201</td>\n",
       "      <td>20</td>\n",
       "      <td>1723133</td>\n",
       "      <td>250=</td>\n",
       "      <td>12</td>\n",
       "    </tr>\n",
       "    <tr>\n",
       "      <th>14</th>\n",
       "      <td>394F</td>\n",
       "      <td>1</td>\n",
       "      <td>2</td>\n",
       "      <td>198554598</td>\n",
       "      <td>235M15S</td>\n",
       "      <td>0</td>\n",
       "      <td>201</td>\n",
       "      <td>20</td>\n",
       "      <td>1723089</td>\n",
       "      <td>13=1X9=1X13=1X212=</td>\n",
       "      <td>...</td>\n",
       "      <td>2</td>\n",
       "      <td>2</td>\n",
       "      <td>198554865</td>\n",
       "      <td>105S141M4S</td>\n",
       "      <td>0</td>\n",
       "      <td>201</td>\n",
       "      <td>20</td>\n",
       "      <td>1722927</td>\n",
       "      <td>175=1X9=1X13=1X50=</td>\n",
       "      <td>12</td>\n",
       "    </tr>\n",
       "    <tr>\n",
       "      <th>15</th>\n",
       "      <td>21FN</td>\n",
       "      <td>1</td>\n",
       "      <td>2</td>\n",
       "      <td>223016822</td>\n",
       "      <td>250M</td>\n",
       "      <td>0</td>\n",
       "      <td>201</td>\n",
       "      <td>20</td>\n",
       "      <td>1722928</td>\n",
       "      <td>174=1X9=1X13=1X51=</td>\n",
       "      <td>...</td>\n",
       "      <td>2</td>\n",
       "      <td>2</td>\n",
       "      <td>223016733</td>\n",
       "      <td>138M112S</td>\n",
       "      <td>0</td>\n",
       "      <td>201</td>\n",
       "      <td>20</td>\n",
       "      <td>1723017</td>\n",
       "      <td>85=1X9=1X13=1X140=</td>\n",
       "      <td>12</td>\n",
       "    </tr>\n",
       "    <tr>\n",
       "      <th>16</th>\n",
       "      <td>G2N</td>\n",
       "      <td>1</td>\n",
       "      <td>3</td>\n",
       "      <td>67865157</td>\n",
       "      <td>1S249M</td>\n",
       "      <td>0</td>\n",
       "      <td>201</td>\n",
       "      <td>20</td>\n",
       "      <td>1724987</td>\n",
       "      <td>250=</td>\n",
       "      <td>...</td>\n",
       "      <td>2</td>\n",
       "      <td>3</td>\n",
       "      <td>67864864</td>\n",
       "      <td>153M97S</td>\n",
       "      <td>0</td>\n",
       "      <td>201</td>\n",
       "      <td>20</td>\n",
       "      <td>1725279</td>\n",
       "      <td>250=</td>\n",
       "      <td>12</td>\n",
       "    </tr>\n",
       "    <tr>\n",
       "      <th>17</th>\n",
       "      <td>2254</td>\n",
       "      <td>1</td>\n",
       "      <td>3</td>\n",
       "      <td>103277760</td>\n",
       "      <td>26S224M</td>\n",
       "      <td>0</td>\n",
       "      <td>201</td>\n",
       "      <td>20</td>\n",
       "      <td>1723077</td>\n",
       "      <td>25=1X9=1X13=1X200=</td>\n",
       "      <td>...</td>\n",
       "      <td>2</td>\n",
       "      <td>3</td>\n",
       "      <td>103277593</td>\n",
       "      <td>131M119S</td>\n",
       "      <td>0</td>\n",
       "      <td>201</td>\n",
       "      <td>20</td>\n",
       "      <td>1723218</td>\n",
       "      <td>250=</td>\n",
       "      <td>12</td>\n",
       "    </tr>\n",
       "    <tr>\n",
       "      <th>18</th>\n",
       "      <td>AVB</td>\n",
       "      <td>1</td>\n",
       "      <td>3</td>\n",
       "      <td>152151311</td>\n",
       "      <td>228M22S</td>\n",
       "      <td>25</td>\n",
       "      <td>201</td>\n",
       "      <td>20</td>\n",
       "      <td>1615462</td>\n",
       "      <td>82=1X10=1X37=1X67=1X50=</td>\n",
       "      <td>...</td>\n",
       "      <td>2</td>\n",
       "      <td>3</td>\n",
       "      <td>152151409</td>\n",
       "      <td>98S143M9S</td>\n",
       "      <td>25</td>\n",
       "      <td>201</td>\n",
       "      <td>20</td>\n",
       "      <td>1615462</td>\n",
       "      <td>82=1X10=1X37=1X67=1X50=</td>\n",
       "      <td>12</td>\n",
       "    </tr>\n",
       "    <tr>\n",
       "      <th>19</th>\n",
       "      <td>K1Y</td>\n",
       "      <td>1</td>\n",
       "      <td>3</td>\n",
       "      <td>152953832</td>\n",
       "      <td>231M19S</td>\n",
       "      <td>2</td>\n",
       "      <td>201</td>\n",
       "      <td>20</td>\n",
       "      <td>3774532</td>\n",
       "      <td>250=</td>\n",
       "      <td>...</td>\n",
       "      <td>2</td>\n",
       "      <td>3</td>\n",
       "      <td>152954145</td>\n",
       "      <td>80S170M</td>\n",
       "      <td>2</td>\n",
       "      <td>201</td>\n",
       "      <td>20</td>\n",
       "      <td>3774765</td>\n",
       "      <td>97=1X152=</td>\n",
       "      <td>12</td>\n",
       "    </tr>\n",
       "  </tbody>\n",
       "</table>\n",
       "<p>20 rows × 21 columns</p>\n",
       "</div>"
      ],
      "text/plain": [
       "   qname mate1                                                         \\\n",
       "     NaN  mate chrom        pos         cigar  MQ d_err correct_chrom   \n",
       "0   3E78     1     1   13656153          250M   0   201            20   \n",
       "1    V91     1     1   25159312       21S229M   0   201            20   \n",
       "2    OMF     1     1   83806363       230M20S   1   201            20   \n",
       "3   1MX7     1     1   90213096       15S235M  13   201            20   \n",
       "4   23Z8     1     1  164432660       222M28S  12   201            20   \n",
       "5   31U4     1     1  171659566       24S226M   0   201            20   \n",
       "6   2XAL     1     1  195896134          250M   0   201            20   \n",
       "7   3NDP     1     1  196190500       24S226M   6   201            20   \n",
       "8   19DY     1     1  212471810        244M6S   0   201            20   \n",
       "9    ET1     1     1  213023701       12S238M   0   201            20   \n",
       "10   NAH     1     1  244686794       225M25S   0   201            20   \n",
       "11   I8D     1     2   14992152          250M   0   201            20   \n",
       "12  298B     1     2   66343926  141M1I106M2S   1   201            20   \n",
       "13  3CA5     1     2  173183389       233M17S  14   201            20   \n",
       "14  394F     1     2  198554598       235M15S   0   201            20   \n",
       "15  21FN     1     2  223016822          250M   0   201            20   \n",
       "16   G2N     1     3   67865157        1S249M   0   201            20   \n",
       "17  2254     1     3  103277760       26S224M   0   201            20   \n",
       "18   AVB     1     3  152151311       228M22S  25   201            20   \n",
       "19   K1Y     1     3  152953832       231M19S   2   201            20   \n",
       "\n",
       "                                        ... mate2                   \\\n",
       "   correct_pos            correct_cigar ...  mate chrom        pos   \n",
       "0      2806059                     250= ...     2     1   13655999   \n",
       "1      2805632                     250= ...     2     1   25159291   \n",
       "2      1723777                     250= ...     2     1   83806654   \n",
       "3      1724934                     250= ...     2     1   90213017   \n",
       "4      1723850                     250= ...     2     1  164432903   \n",
       "5      1723859                     250= ...     2     1  171659447   \n",
       "6      1723416                     250= ...     2     1  195896317   \n",
       "7      1723454                     250= ...     2     1  196190464   \n",
       "8      2805505                     250= ...     2     1  212471920   \n",
       "9      1723322                     250= ...     2     1  213023234   \n",
       "10     3479486                     250= ...     2     1  244686886   \n",
       "11     3479428                     250= ...     2     2   14992155   \n",
       "12     1725120                     250= ...     2     2   66344097   \n",
       "13     1723043       59=1X9=1X13=1X166= ...     2     2  173183577   \n",
       "14     1723089       13=1X9=1X13=1X212= ...     2     2  198554865   \n",
       "15     1722928       174=1X9=1X13=1X51= ...     2     2  223016733   \n",
       "16     1724987                     250= ...     2     3   67864864   \n",
       "17     1723077       25=1X9=1X13=1X200= ...     2     3  103277593   \n",
       "18     1615462  82=1X10=1X37=1X67=1X50= ...     2     3  152151409   \n",
       "19     3774532                     250= ...     2     3  152954145   \n",
       "\n",
       "                                                                             \\\n",
       "         cigar  MQ d_err correct_chrom correct_pos            correct_cigar   \n",
       "0     148M102S   0   201            20     2805905                     250=   \n",
       "1      155M95S   0   201            20     2805632                     250=   \n",
       "2     117S133M   1   201            20     1723603                     250=   \n",
       "3     142M108S  13   201            20     1724998                     250=   \n",
       "4     130S120M  12   201            20     1723963                     250=   \n",
       "5      166M84S   0   201            20     1723954                     250=   \n",
       "6     106S144M   0   201            20     1723339                     250=   \n",
       "7      169M81S   6   201            20     1723466                     250=   \n",
       "8     110S140M   0   201            20     2805505                     250=   \n",
       "9      159M91S   0   201            20     1723777                     250=   \n",
       "10     92S158M   0   201            20     3479486                     250=   \n",
       "11   3S169M78S   0   201            20     3479428                     250=   \n",
       "12     94S156M   1   201            20     1725042                     250=   \n",
       "13   98S147M5S  14   201            20     1723133                     250=   \n",
       "14  105S141M4S   0   201            20     1722927       175=1X9=1X13=1X50=   \n",
       "15    138M112S   0   201            20     1723017       85=1X9=1X13=1X140=   \n",
       "16     153M97S   0   201            20     1725279                     250=   \n",
       "17    131M119S   0   201            20     1723218                     250=   \n",
       "18   98S143M9S  25   201            20     1615462  82=1X10=1X37=1X67=1X50=   \n",
       "19     80S170M   2   201            20     3774765                97=1X152=   \n",
       "\n",
       "        \n",
       "    NM  \n",
       "0   12  \n",
       "1   12  \n",
       "2   12  \n",
       "3   12  \n",
       "4   12  \n",
       "5   12  \n",
       "6   12  \n",
       "7   12  \n",
       "8   12  \n",
       "9   12  \n",
       "10  12  \n",
       "11  12  \n",
       "12  12  \n",
       "13  12  \n",
       "14  12  \n",
       "15  12  \n",
       "16  12  \n",
       "17  12  \n",
       "18  12  \n",
       "19  12  \n",
       "\n",
       "[20 rows x 21 columns]"
      ]
     },
     "execution_count": 151,
     "metadata": {},
     "output_type": "execute_result"
    }
   ],
   "source": [
    "r1 = mab.read_bam(bam_fname=fname, sidecar_fname=scar_fname)\n",
    "r2 = mab.compute_derr(max_d=200)\n",
    "r3 = mab.make_pairs\n",
    "r4 = mab.to_df(tags=['NM'])\n",
    "df = cyt.pipe(r1, r2, r3, cyt.take(20), r4)\n",
    "df"
   ]
  },
  {
   "cell_type": "code",
   "execution_count": 51,
   "metadata": {
    "collapsed": true
   },
   "outputs": [],
   "source": [
    "import io\n",
    "import pysam"
   ]
  },
  {
   "cell_type": "code",
   "execution_count": 52,
   "metadata": {
    "collapsed": true
   },
   "outputs": [],
   "source": [
    "fp = pysam.AlignmentFile(fname)"
   ]
  },
  {
   "cell_type": "code",
   "execution_count": 54,
   "metadata": {
    "collapsed": true
   },
   "outputs": [],
   "source": [
    "fout_str = io.StringIO()"
   ]
  },
  {
   "cell_type": "code",
   "execution_count": 56,
   "metadata": {},
   "outputs": [
    {
     "ename": "NotImplementedError",
     "evalue": "access from StringIO objects not supported",
     "output_type": "error",
     "traceback": [
      "\u001b[0;31m---------------------------------------------------------------------------\u001b[0m",
      "\u001b[0;31mNotImplementedError\u001b[0m                       Traceback (most recent call last)",
      "\u001b[0;32m<ipython-input-56-b4d121f105f7>\u001b[0m in \u001b[0;36m<module>\u001b[0;34m()\u001b[0m\n\u001b[0;32m----> 1\u001b[0;31m \u001b[0mpysam\u001b[0m\u001b[0;34m.\u001b[0m\u001b[0mAlignmentFile\u001b[0m\u001b[0;34m(\u001b[0m\u001b[0mfout_str\u001b[0m\u001b[0;34m,\u001b[0m \u001b[0;34m'r'\u001b[0m\u001b[0;34m)\u001b[0m\u001b[0;34m\u001b[0m\u001b[0m\n\u001b[0m",
      "\u001b[0;32mpysam/libcalignmentfile.pyx\u001b[0m in \u001b[0;36mpysam.libcalignmentfile.AlignmentFile.__cinit__ (pysam/libcalignmentfile.c:4979)\u001b[0;34m()\u001b[0m\n",
      "\u001b[0;32mpysam/libcalignmentfile.pyx\u001b[0m in \u001b[0;36mpysam.libcalignmentfile.AlignmentFile._open (pysam/libcalignmentfile.c:5955)\u001b[0;34m()\u001b[0m\n",
      "\u001b[0;31mNotImplementedError\u001b[0m: access from StringIO objects not supported"
     ]
    }
   ],
   "source": [
    "pysam.AlignmentFile(fout_str, 'r')"
   ]
  },
  {
   "cell_type": "code",
   "execution_count": 57,
   "metadata": {},
   "outputs": [
    {
     "data": {
      "text/plain": [
       "['BT7|HG00119|20:1|1:3429775:40=::|0:3429189:40=::14G8A*',\n",
       " '161',\n",
       " '1',\n",
       " '1461351',\n",
       " '0',\n",
       " '8M1D26M6S',\n",
       " '10',\n",
       " '33768360',\n",
       " '0',\n",
       " 'GTGCTAGGTTACAGATGTGAGCCCCCGTGCCCGGCCTTTT',\n",
       " '=<;>?>?>=1???9#=4>?>>;@#?@??>>>>?=>=??>?',\n",
       " 'NM:i:2',\n",
       " 'MD:Z:5G2^A26',\n",
       " 'AS:i:26',\n",
       " 'XS:i:25',\n",
       " 'XA:Z:5,+137532258,15S25M,0;10,-94493697,17S23M,0;8,+37670470,23M17S,0;13,+26954599,17S23M,0;']"
      ]
     },
     "execution_count": 57,
     "metadata": {},
     "output_type": "execute_result"
    }
   ],
   "source": [
    "read.tostring(mab.pysam.AlignmentFile(fname)).split('\\t')"
   ]
  },
  {
   "cell_type": "code",
   "execution_count": 86,
   "metadata": {
    "collapsed": true
   },
   "outputs": [],
   "source": [
    "def fromstring(s, ref_dict):\n",
    "  \"\"\"Inverse of pysam.AlignedSegment.tostring(): given a string, create an aligned segment\n",
    "\n",
    "  :param s:\n",
    "  :param ref_dict: ref_dict = {r: n for n, r in enumerate(fp.references)}\n",
    "  :return:\n",
    "  \"\"\"\n",
    "  def _split(_s):\n",
    "    qname, flag, rname, pos, \\\n",
    "    mapping_quality, cigarstring, \\\n",
    "    rnext, pnext, template_length, seq, qual, *_tg = _s.split('\\t')\n",
    "\n",
    "    flag = int(flag)\n",
    "    rname = ref_dict[rname]\n",
    "    pos = int(pos)\n",
    "    mapping_quality = int(mapping_quality)\n",
    "    rnext = ref_dict[rnext]\n",
    "    pnext = int(pnext)\n",
    "    template_length = int(template_length)\n",
    "\n",
    "    return qname, flag, rname, pos, \\\n",
    "      mapping_quality, cigarstring, \\\n",
    "      rnext, pnext, template_length, seq, qual, _tg\n",
    "\n",
    "  # So close, pysam.tostring, so close\n",
    "  def _tags(_t):\n",
    "    _tl = _t.split(':')\n",
    "    if _tl[1] == 'i':\n",
    "      _tl[2] = int(_tl[2])\n",
    "    elif _tl[1] == 'f':\n",
    "      _tl[2] = float(_tl[2])\n",
    "\n",
    "    return _tl[0], _tl[2], _tl[1]\n",
    "\n",
    "  r = pysam.AlignedSegment()\n",
    "  r.qname, r.flag, r.rname, r.pos, \\\n",
    "  r.mapping_quality, r.cigarstring, \\\n",
    "  r.rnext, r.pnext, r.template_length, r.seq, r.qual, tags = _split(s)\n",
    "  r.set_tags([_tags(t) for t in tags])\n",
    "  return r"
   ]
  },
  {
   "cell_type": "code",
   "execution_count": 87,
   "metadata": {
    "collapsed": true
   },
   "outputs": [],
   "source": [
    "read2 = fromstring(read.tostring(mab.pysam.AlignmentFile(fname)), ref_dict)"
   ]
  },
  {
   "cell_type": "code",
   "execution_count": 90,
   "metadata": {},
   "outputs": [
    {
     "data": {
      "text/plain": [
       "['BT7|HG00119|20:1|1:3429775:40=::|0:3429189:40=::14G8A*',\n",
       " '161',\n",
       " '1',\n",
       " '1461352',\n",
       " '0',\n",
       " '8M1D26M6S',\n",
       " '10',\n",
       " '33768361',\n",
       " '0',\n",
       " 'GTGCTAGGTTACAGATGTGAGCCCCCGTGCCCGGCCTTTT',\n",
       " '=<;>?>?>=1???9#=4>?>>;@#?@??>>>>?=>=??>?',\n",
       " 'NM:i:2',\n",
       " 'MD:Z:5G2^A26',\n",
       " 'AS:i:26',\n",
       " 'XS:i:25',\n",
       " 'XA:Z:5,+137532258,15S25M,0;10,-94493697,17S23M,0;8,+37670470,23M17S,0;13,+26954599,17S23M,0;']"
      ]
     },
     "execution_count": 90,
     "metadata": {},
     "output_type": "execute_result"
    }
   ],
   "source": [
    "read2.tostring(mab.pysam.AlignmentFile(fname)).split()"
   ]
  },
  {
   "cell_type": "code",
   "execution_count": 92,
   "metadata": {},
   "outputs": [
    {
     "data": {
      "text/plain": [
       "['BT7|HG00119|20:1|1:3429775:40=::|0:3429189:40=::14G8A*',\n",
       " '161',\n",
       " '1',\n",
       " '1461351',\n",
       " '0',\n",
       " '8M1D26M6S',\n",
       " '10',\n",
       " '33768360',\n",
       " '0',\n",
       " 'GTGCTAGGTTACAGATGTGAGCCCCCGTGCCCGGCCTTTT',\n",
       " '=<;>?>?>=1???9#=4>?>>;@#?@??>>>>?=>=??>?',\n",
       " 'NM:i:2',\n",
       " 'MD:Z:5G2^A26',\n",
       " 'AS:i:26',\n",
       " 'XS:i:25',\n",
       " 'XA:Z:5,+137532258,15S25M,0;10,-94493697,17S23M,0;8,+37670470,23M17S,0;13,+26954599,17S23M,0;']"
      ]
     },
     "execution_count": 92,
     "metadata": {},
     "output_type": "execute_result"
    }
   ],
   "source": [
    "read.tostring(mab.pysam.AlignmentFile(fname)).split()"
   ]
  },
  {
   "cell_type": "code",
   "execution_count": 11,
   "metadata": {},
   "outputs": [
    {
     "data": {
      "text/plain": [
       "304"
      ]
     },
     "execution_count": 11,
     "metadata": {},
     "output_type": "execute_result"
    }
   ],
   "source": [
    "fp = bamtoolz.pysam.AlignmentFile(fname)\n",
    "fp.unmapped"
   ]
  },
  {
   "cell_type": "code",
   "execution_count": 9,
   "metadata": {
    "collapsed": true
   },
   "outputs": [],
   "source": [
    "import logging\n",
    "logging.debug(\"hello world\")"
   ]
  },
  {
   "cell_type": "code",
   "execution_count": 48,
   "metadata": {
    "collapsed": true
   },
   "outputs": [],
   "source": [
    "mab.save_histogram(p2, 'test_me.pklz')"
   ]
  },
  {
   "cell_type": "code",
   "execution_count": 49,
   "metadata": {
    "collapsed": true
   },
   "outputs": [],
   "source": [
    "p3 = mab.load_histogram('test_me.pklz')"
   ]
  },
  {
   "cell_type": "code",
   "execution_count": 52,
   "metadata": {},
   "outputs": [
    {
     "data": {
      "text/plain": [
       "('mq1', 'mq2')"
      ]
     },
     "execution_count": 52,
     "metadata": {},
     "output_type": "execute_result"
    }
   ],
   "source": [
    "p3.dims"
   ]
  },
  {
   "cell_type": "code",
   "execution_count": 53,
   "metadata": {},
   "outputs": [
    {
     "data": {
      "text/plain": [
       "('mq1', 'mq2')"
      ]
     },
     "execution_count": 53,
     "metadata": {},
     "output_type": "execute_result"
    }
   ],
   "source": [
    "p3.dims"
   ]
  },
  {
   "cell_type": "code",
   "execution_count": 54,
   "metadata": {},
   "outputs": [
    {
     "data": {
      "text/plain": [
       "<xarray.DataArray 'PairedAlignmentHistogram' (mq1: 61, mq2: 61)>\n",
       "array([[   251,      1,      1, ...,      0,      0,     13],\n",
       "       [     2,      5,      1, ...,      0,      0,      0],\n",
       "       [     0,      0,      2, ...,      0,      0,      0],\n",
       "       ..., \n",
       "       [     0,      0,      0, ...,      3,      0,     13],\n",
       "       [     0,      0,      0, ...,      0,      1,     10],\n",
       "       [    42,      1,      1, ...,    124,     90, 175937]])\n",
       "Coordinates:\n",
       "  * mq1      (mq1) <U13 '0 <= MQ < 1' '1 <= MQ < 2' '2 <= MQ < 3' ...\n",
       "  * mq2      (mq2) <U13 '0 <= MQ < 1' '1 <= MQ < 2' '2 <= MQ < 3' ...\n",
       "Attributes:\n",
       "    max_v:        None\n",
       "    bin_centers:  [array([  -inf,  -70. ,  -30. ,  -15. ,   -7.5,   -2.5,    ...\n",
       "    description:  ['alignment error mate 1', 'alignment error mate 2', 'mappi...\n",
       "    bin_edges:    [array([ -inf, -100.,  -40.,  -20.,  -10.,   -5.,    0.,   ...\n",
       "    max_d:        200"
      ]
     },
     "execution_count": 54,
     "metadata": {},
     "output_type": "execute_result"
    }
   ],
   "source": [
    "p3"
   ]
  },
  {
   "cell_type": "code",
   "execution_count": null,
   "metadata": {
    "collapsed": true
   },
   "outputs": [],
   "source": []
  }
 ],
 "metadata": {
  "kernelspec": {
   "display_name": "Python 3",
   "language": "python",
   "name": "python3"
  },
  "language_info": {
   "codemirror_mode": {
    "name": "ipython",
    "version": 3
   },
   "file_extension": ".py",
   "mimetype": "text/x-python",
   "name": "python",
   "nbconvert_exporter": "python",
   "pygments_lexer": "ipython3",
   "version": "3.5.2"
  }
 },
 "nbformat": 4,
 "nbformat_minor": 1
}
