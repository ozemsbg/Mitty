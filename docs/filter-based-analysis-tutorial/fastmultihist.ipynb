{
 "cells": [
  {
   "cell_type": "code",
   "execution_count": null,
   "metadata": {
    "collapsed": true
   },
   "outputs": [],
   "source": [
    "import numpy as np"
   ]
  },
  {
   "cell_type": "code",
   "execution_count": 4,
   "metadata": {
    "collapsed": true
   },
   "outputs": [],
   "source": [
    "def fastmultihist(sample, bins):\n",
    "    N, D = sample.shape\n",
    "    # Compute the bin number each sample falls into.\n",
    "    Ncount = {}\n",
    "    for i in arange(D):\n",
    "        Ncount[i] = np.digitize(sample[:, i], bins[i])\n",
    "\n",
    "    for i in arange(D):\n",
    "        nbin[i] = len(bins[i]) - 1\n",
    "        \n",
    "    xy = zeros(N, int)\n",
    "    for i in arange(0, D-1):\n",
    "        xy += Ncount[ni[i]] * nbin[ni[i+1:]].prod()\n",
    "    xy += Ncount[ni[-1]]\n",
    "    \n",
    "    hist = zeros(nbin, float).reshape(-1)\n",
    "    flatcount = bincount(xy, weights)\n",
    "    a = arange(len(flatcount))\n",
    "    hist[a] = flatcount\n",
    "    \n",
    "    hist = hist.reshape(nbin)"
   ]
  },
  {
   "cell_type": "code",
   "execution_count": null,
   "metadata": {
    "collapsed": true
   },
   "outputs": [],
   "source": []
  }
 ],
 "metadata": {
  "kernelspec": {
   "display_name": "Python 3",
   "language": "python",
   "name": "python3"
  },
  "language_info": {
   "codemirror_mode": {
    "name": "ipython",
    "version": 3
   },
   "file_extension": ".py",
   "mimetype": "text/x-python",
   "name": "python",
   "nbconvert_exporter": "python",
   "pygments_lexer": "ipython3",
   "version": "3.5.2"
  }
 },
 "nbformat": 4,
 "nbformat_minor": 1
}
